{
 "cells": [
  {
   "attachments": {},
   "cell_type": "markdown",
   "metadata": {},
   "source": [
    "<h1>Project 1</h1>\n",
    "<hr>\n",
    "<h2>Road Traffic Severity Classification</h2>\n",
    "This data set is collected from Addis Ababa Sub-city police departments for master's research work. The data set has been prepared from manual records of road traffic accidents of the year 2017-20. All the sensitive information has been excluded during data encoding and finally it has 32 features and 12316 instances of the accident. Then it is preprocessed and for identification of major causes of the accident by analyzing it using different machine learning classification algorithms."
   ]
  },
  {
   "attachments": {},
   "cell_type": "markdown",
   "metadata": {},
   "source": [
    "<hr>\n",
    "<h2>Modeling</h2>\n",
    "<hr>\n"
   ]
  },
  {
   "cell_type": "code",
   "execution_count": 34,
   "metadata": {},
   "outputs": [],
   "source": [
    "import pandas as pd\n",
    "import matplotlib.pyplot as plt\n",
    "#from autoviz.AutoViz_Class import AutoViz_Class\n",
    "#from autoviz import data_cleaning_suggestions\n",
    "from sklearn.preprocessing import LabelEncoder\n",
    "from xgboost import XGBClassifier\n",
    "from sklearn.ensemble import ExtraTreesClassifier\n",
    "from sklearn.ensemble import RandomForestClassifier\n",
    "from sklearn.model_selection import train_test_split\n",
    "from sklearn.model_selection import cross_val_score, StratifiedKFold, KFold\n",
    "from sklearn.metrics import f1_score\n",
    "from sklearn.metrics import (accuracy_score, \n",
    "                            classification_report,\n",
    "                            recall_score, precision_score,\n",
    "                            confusion_matrix\n",
    "                            )\n",
    "from sklearn.model_selection import GridSearchCV\n",
    "from mlxtend.evaluate import mcnemar_table, mcnemar_tables\n",
    "from mlxtend.plotting import checkerboard_plot, plot_decision_regions\n",
    "from collections import Counter\n",
    "from imblearn.over_sampling import SMOTE\n",
    "#import missingno as msno\n",
    "%matplotlib inline      \n",
    "import seaborn as sns\n",
    "import numpy as np\n",
    "import joblib\n",
    "import pickle"
   ]
  },
  {
   "cell_type": "code",
   "execution_count": 2,
   "metadata": {},
   "outputs": [],
   "source": [
    "df=pd.read_csv('../datasets/RTA Dataset_encoded.csv')"
   ]
  },
  {
   "cell_type": "code",
   "execution_count": 3,
   "metadata": {},
   "outputs": [
    {
     "data": {
      "text/html": [
       "<div>\n",
       "<style scoped>\n",
       "    .dataframe tbody tr th:only-of-type {\n",
       "        vertical-align: middle;\n",
       "    }\n",
       "\n",
       "    .dataframe tbody tr th {\n",
       "        vertical-align: top;\n",
       "    }\n",
       "\n",
       "    .dataframe thead th {\n",
       "        text-align: right;\n",
       "    }\n",
       "</style>\n",
       "<table border=\"1\" class=\"dataframe\">\n",
       "  <thead>\n",
       "    <tr style=\"text-align: right;\">\n",
       "      <th></th>\n",
       "      <th>Unnamed: 0</th>\n",
       "      <th>number_of_vehicles_involved</th>\n",
       "      <th>number_of_casualties</th>\n",
       "      <th>accident_severity</th>\n",
       "      <th>time_hours</th>\n",
       "      <th>day_of_week_encoded</th>\n",
       "      <th>driving_experience_encoded</th>\n",
       "      <th>educational_level_encoded</th>\n",
       "      <th>age_band_of_casualty_encoded</th>\n",
       "      <th>service_year_of_vehicle_encoded</th>\n",
       "      <th>...</th>\n",
       "      <th>weather_conditions_encoded</th>\n",
       "      <th>types_of_junction_encoded</th>\n",
       "      <th>lanes_or_medians_encoded</th>\n",
       "      <th>road_surface_type_encoded</th>\n",
       "      <th>owner_of_vehicle_encoded</th>\n",
       "      <th>road_surface_conditions_encoded</th>\n",
       "      <th>casualty_class_encoded</th>\n",
       "      <th>light_conditions_encoded</th>\n",
       "      <th>sex_of_casualty_encoded</th>\n",
       "      <th>sex_of_driver_encoded</th>\n",
       "    </tr>\n",
       "  </thead>\n",
       "  <tbody>\n",
       "    <tr>\n",
       "      <th>0</th>\n",
       "      <td>0</td>\n",
       "      <td>2</td>\n",
       "      <td>2</td>\n",
       "      <td>Slight Injury</td>\n",
       "      <td>17</td>\n",
       "      <td>1</td>\n",
       "      <td>0</td>\n",
       "      <td>0</td>\n",
       "      <td>5</td>\n",
       "      <td>3</td>\n",
       "      <td>...</td>\n",
       "      <td>2</td>\n",
       "      <td>1</td>\n",
       "      <td>5</td>\n",
       "      <td>0</td>\n",
       "      <td>3</td>\n",
       "      <td>0</td>\n",
       "      <td>3</td>\n",
       "      <td>3</td>\n",
       "      <td>2</td>\n",
       "      <td>1</td>\n",
       "    </tr>\n",
       "    <tr>\n",
       "      <th>1</th>\n",
       "      <td>1</td>\n",
       "      <td>2</td>\n",
       "      <td>2</td>\n",
       "      <td>Slight Injury</td>\n",
       "      <td>17</td>\n",
       "      <td>1</td>\n",
       "      <td>3</td>\n",
       "      <td>4</td>\n",
       "      <td>5</td>\n",
       "      <td>2</td>\n",
       "      <td>...</td>\n",
       "      <td>2</td>\n",
       "      <td>1</td>\n",
       "      <td>4</td>\n",
       "      <td>0</td>\n",
       "      <td>3</td>\n",
       "      <td>0</td>\n",
       "      <td>3</td>\n",
       "      <td>3</td>\n",
       "      <td>2</td>\n",
       "      <td>1</td>\n",
       "    </tr>\n",
       "    <tr>\n",
       "      <th>2</th>\n",
       "      <td>2</td>\n",
       "      <td>2</td>\n",
       "      <td>2</td>\n",
       "      <td>Serious Injury</td>\n",
       "      <td>17</td>\n",
       "      <td>1</td>\n",
       "      <td>0</td>\n",
       "      <td>4</td>\n",
       "      <td>1</td>\n",
       "      <td>5</td>\n",
       "      <td>...</td>\n",
       "      <td>2</td>\n",
       "      <td>1</td>\n",
       "      <td>6</td>\n",
       "      <td>0</td>\n",
       "      <td>3</td>\n",
       "      <td>0</td>\n",
       "      <td>0</td>\n",
       "      <td>3</td>\n",
       "      <td>1</td>\n",
       "      <td>1</td>\n",
       "    </tr>\n",
       "    <tr>\n",
       "      <th>3</th>\n",
       "      <td>3</td>\n",
       "      <td>2</td>\n",
       "      <td>2</td>\n",
       "      <td>Slight Injury</td>\n",
       "      <td>1</td>\n",
       "      <td>3</td>\n",
       "      <td>2</td>\n",
       "      <td>4</td>\n",
       "      <td>0</td>\n",
       "      <td>5</td>\n",
       "      <td>...</td>\n",
       "      <td>2</td>\n",
       "      <td>7</td>\n",
       "      <td>6</td>\n",
       "      <td>2</td>\n",
       "      <td>0</td>\n",
       "      <td>0</td>\n",
       "      <td>2</td>\n",
       "      <td>0</td>\n",
       "      <td>0</td>\n",
       "      <td>1</td>\n",
       "    </tr>\n",
       "    <tr>\n",
       "      <th>4</th>\n",
       "      <td>4</td>\n",
       "      <td>2</td>\n",
       "      <td>2</td>\n",
       "      <td>Slight Injury</td>\n",
       "      <td>1</td>\n",
       "      <td>3</td>\n",
       "      <td>1</td>\n",
       "      <td>4</td>\n",
       "      <td>5</td>\n",
       "      <td>2</td>\n",
       "      <td>...</td>\n",
       "      <td>2</td>\n",
       "      <td>7</td>\n",
       "      <td>6</td>\n",
       "      <td>0</td>\n",
       "      <td>3</td>\n",
       "      <td>0</td>\n",
       "      <td>3</td>\n",
       "      <td>0</td>\n",
       "      <td>2</td>\n",
       "      <td>1</td>\n",
       "    </tr>\n",
       "  </tbody>\n",
       "</table>\n",
       "<p>5 rows × 29 columns</p>\n",
       "</div>"
      ],
      "text/plain": [
       "   Unnamed: 0  number_of_vehicles_involved  number_of_casualties  \\\n",
       "0           0                            2                     2   \n",
       "1           1                            2                     2   \n",
       "2           2                            2                     2   \n",
       "3           3                            2                     2   \n",
       "4           4                            2                     2   \n",
       "\n",
       "  accident_severity  time_hours  day_of_week_encoded  \\\n",
       "0     Slight Injury          17                    1   \n",
       "1     Slight Injury          17                    1   \n",
       "2    Serious Injury          17                    1   \n",
       "3     Slight Injury           1                    3   \n",
       "4     Slight Injury           1                    3   \n",
       "\n",
       "   driving_experience_encoded  educational_level_encoded  \\\n",
       "0                           0                          0   \n",
       "1                           3                          4   \n",
       "2                           0                          4   \n",
       "3                           2                          4   \n",
       "4                           1                          4   \n",
       "\n",
       "   age_band_of_casualty_encoded  service_year_of_vehicle_encoded  ...  \\\n",
       "0                             5                                3  ...   \n",
       "1                             5                                2  ...   \n",
       "2                             1                                5  ...   \n",
       "3                             0                                5  ...   \n",
       "4                             5                                2  ...   \n",
       "\n",
       "   weather_conditions_encoded  types_of_junction_encoded  \\\n",
       "0                           2                          1   \n",
       "1                           2                          1   \n",
       "2                           2                          1   \n",
       "3                           2                          7   \n",
       "4                           2                          7   \n",
       "\n",
       "   lanes_or_medians_encoded  road_surface_type_encoded  \\\n",
       "0                         5                          0   \n",
       "1                         4                          0   \n",
       "2                         6                          0   \n",
       "3                         6                          2   \n",
       "4                         6                          0   \n",
       "\n",
       "   owner_of_vehicle_encoded  road_surface_conditions_encoded  \\\n",
       "0                         3                                0   \n",
       "1                         3                                0   \n",
       "2                         3                                0   \n",
       "3                         0                                0   \n",
       "4                         3                                0   \n",
       "\n",
       "   casualty_class_encoded  light_conditions_encoded  sex_of_casualty_encoded  \\\n",
       "0                       3                         3                        2   \n",
       "1                       3                         3                        2   \n",
       "2                       0                         3                        1   \n",
       "3                       2                         0                        0   \n",
       "4                       3                         0                        2   \n",
       "\n",
       "   sex_of_driver_encoded  \n",
       "0                      1  \n",
       "1                      1  \n",
       "2                      1  \n",
       "3                      1  \n",
       "4                      1  \n",
       "\n",
       "[5 rows x 29 columns]"
      ]
     },
     "execution_count": 3,
     "metadata": {},
     "output_type": "execute_result"
    }
   ],
   "source": [
    "df.head()"
   ]
  },
  {
   "cell_type": "code",
   "execution_count": 4,
   "metadata": {},
   "outputs": [],
   "source": [
    "df.drop('Unnamed: 0',axis=1,inplace=True)"
   ]
  },
  {
   "cell_type": "code",
   "execution_count": 5,
   "metadata": {},
   "outputs": [
    {
     "data": {
      "text/plain": [
       "['number_of_vehicles_involved',\n",
       " 'number_of_casualties',\n",
       " 'time_hours',\n",
       " 'day_of_week_encoded',\n",
       " 'driving_experience_encoded',\n",
       " 'educational_level_encoded',\n",
       " 'age_band_of_casualty_encoded',\n",
       " 'service_year_of_vehicle_encoded',\n",
       " 'age_band_of_driver_encoded',\n",
       " 'casualty_severity_encoded',\n",
       " 'cause_of_accident_encoded',\n",
       " 'type_of_vehicle_encoded',\n",
       " 'area_accident_occured_encoded',\n",
       " 'vehicle_movement_encoded',\n",
       " 'road_allignment_encoded',\n",
       " 'type_of_collision_encoded',\n",
       " 'pedestrian_movement_encoded',\n",
       " 'weather_conditions_encoded',\n",
       " 'types_of_junction_encoded',\n",
       " 'lanes_or_medians_encoded',\n",
       " 'road_surface_type_encoded',\n",
       " 'owner_of_vehicle_encoded',\n",
       " 'road_surface_conditions_encoded',\n",
       " 'casualty_class_encoded',\n",
       " 'light_conditions_encoded',\n",
       " 'sex_of_casualty_encoded',\n",
       " 'sex_of_driver_encoded']"
      ]
     },
     "execution_count": 5,
     "metadata": {},
     "output_type": "execute_result"
    }
   ],
   "source": [
    "#select All features, except the target variable\n",
    "labels = df.columns.to_list()\n",
    "labels.remove('accident_severity')\n",
    "labels"
   ]
  },
  {
   "cell_type": "code",
   "execution_count": 6,
   "metadata": {},
   "outputs": [],
   "source": [
    "#Create datasets X and y\n",
    "X = df[labels]\n",
    "y = df['accident_severity']"
   ]
  },
  {
   "cell_type": "code",
   "execution_count": 7,
   "metadata": {},
   "outputs": [],
   "source": [
    "#create datasets to train and test the model\n",
    "X_train, X_test, y_train, y_test = train_test_split(X, y, test_size=0.2, random_state=1)\n"
   ]
  },
  {
   "cell_type": "code",
   "execution_count": 8,
   "metadata": {},
   "outputs": [
    {
     "name": "stdout",
     "output_type": "stream",
     "text": [
      "=============================\n",
      "Class= Serious Injury, n=1396 (14.17%)\n",
      "Class= Slight Injury, n=8326 (84.51%)\n",
      "Class= Fatal injury, n=130 (1.32%)\n",
      "=============================\n",
      "Class= Serious Injury, n=8326 (33.33%)\n",
      "Class= Slight Injury, n=8326 (33.33%)\n",
      "Class= Fatal injury, n=8326 (33.33%)\n",
      "=============================\n",
      "Upsampled data shape:  (24978, 27) (24978,)\n"
     ]
    }
   ],
   "source": [
    "#Upsamplig with SMOTE\n",
    "counter = Counter(y_train)\n",
    "\n",
    "print(\"=============================\")\n",
    "\n",
    "for k,v in counter.items():\n",
    "    per = 100*v/len(y_train)\n",
    "    print(f\"Class= {k}, n={v} ({per:.2f}%)\")\n",
    "\n",
    "oversample = SMOTE()\n",
    "X_train, y_train = oversample.fit_resample(X_train, y_train)\n",
    "\n",
    "counter = Counter(y_train)\n",
    "\n",
    "print(\"=============================\")\n",
    "\n",
    "for k,v in counter.items():\n",
    "    per = 100*v/len(y_train)\n",
    "    print(f\"Class= {k}, n={v} ({per:.2f}%)\")\n",
    "\n",
    "print(\"=============================\")\n",
    "\n",
    "print(\"Upsampled data shape: \", X_train.shape, y_train.shape)"
   ]
  },
  {
   "attachments": {},
   "cell_type": "markdown",
   "metadata": {},
   "source": [
    "<hr>\n",
    "<h3>XGBClassifier model </h3>\n",
    "<hr>\n",
    "<p>The Random Forest is a popular ensemble that takes the average of many Decision Trees via bagging. Bagging is short for “bootstrap aggregation,” meaning that samples are chosen with replacement (bootstrapping), and combined (aggregated) by taking their average.</p>\n",
    "<p>XGBoost is short for “eXtreme Gradient Boosting.” The “eXtreme” refers to speed enhancements such as parallel computing and cache awareness that makes XGBoost approximately 10 times faster than traditional Gradient Boosting. In addition, XGBoost includes a unique split-finding algorithm to optimize trees, along with built-in regularization that reduces overfitting. Generally speaking, XGBoost is a faster, more accurate version of Gradient Boosting.</p>"
   ]
  },
  {
   "cell_type": "code",
   "execution_count": 9,
   "metadata": {},
   "outputs": [],
   "source": [
    "#encode the target variable\n",
    "y_test_encoded = LabelEncoder().fit_transform(y_test)\n",
    "y_train_encoded = LabelEncoder().fit_transform(y_train)    "
   ]
  },
  {
   "cell_type": "code",
   "execution_count": 10,
   "metadata": {},
   "outputs": [
    {
     "data": {
      "text/html": [
       "<style>#sk-container-id-1 {color: black;background-color: white;}#sk-container-id-1 pre{padding: 0;}#sk-container-id-1 div.sk-toggleable {background-color: white;}#sk-container-id-1 label.sk-toggleable__label {cursor: pointer;display: block;width: 100%;margin-bottom: 0;padding: 0.3em;box-sizing: border-box;text-align: center;}#sk-container-id-1 label.sk-toggleable__label-arrow:before {content: \"▸\";float: left;margin-right: 0.25em;color: #696969;}#sk-container-id-1 label.sk-toggleable__label-arrow:hover:before {color: black;}#sk-container-id-1 div.sk-estimator:hover label.sk-toggleable__label-arrow:before {color: black;}#sk-container-id-1 div.sk-toggleable__content {max-height: 0;max-width: 0;overflow: hidden;text-align: left;background-color: #f0f8ff;}#sk-container-id-1 div.sk-toggleable__content pre {margin: 0.2em;color: black;border-radius: 0.25em;background-color: #f0f8ff;}#sk-container-id-1 input.sk-toggleable__control:checked~div.sk-toggleable__content {max-height: 200px;max-width: 100%;overflow: auto;}#sk-container-id-1 input.sk-toggleable__control:checked~label.sk-toggleable__label-arrow:before {content: \"▾\";}#sk-container-id-1 div.sk-estimator input.sk-toggleable__control:checked~label.sk-toggleable__label {background-color: #d4ebff;}#sk-container-id-1 div.sk-label input.sk-toggleable__control:checked~label.sk-toggleable__label {background-color: #d4ebff;}#sk-container-id-1 input.sk-hidden--visually {border: 0;clip: rect(1px 1px 1px 1px);clip: rect(1px, 1px, 1px, 1px);height: 1px;margin: -1px;overflow: hidden;padding: 0;position: absolute;width: 1px;}#sk-container-id-1 div.sk-estimator {font-family: monospace;background-color: #f0f8ff;border: 1px dotted black;border-radius: 0.25em;box-sizing: border-box;margin-bottom: 0.5em;}#sk-container-id-1 div.sk-estimator:hover {background-color: #d4ebff;}#sk-container-id-1 div.sk-parallel-item::after {content: \"\";width: 100%;border-bottom: 1px solid gray;flex-grow: 1;}#sk-container-id-1 div.sk-label:hover label.sk-toggleable__label {background-color: #d4ebff;}#sk-container-id-1 div.sk-serial::before {content: \"\";position: absolute;border-left: 1px solid gray;box-sizing: border-box;top: 0;bottom: 0;left: 50%;z-index: 0;}#sk-container-id-1 div.sk-serial {display: flex;flex-direction: column;align-items: center;background-color: white;padding-right: 0.2em;padding-left: 0.2em;position: relative;}#sk-container-id-1 div.sk-item {position: relative;z-index: 1;}#sk-container-id-1 div.sk-parallel {display: flex;align-items: stretch;justify-content: center;background-color: white;position: relative;}#sk-container-id-1 div.sk-item::before, #sk-container-id-1 div.sk-parallel-item::before {content: \"\";position: absolute;border-left: 1px solid gray;box-sizing: border-box;top: 0;bottom: 0;left: 50%;z-index: -1;}#sk-container-id-1 div.sk-parallel-item {display: flex;flex-direction: column;z-index: 1;position: relative;background-color: white;}#sk-container-id-1 div.sk-parallel-item:first-child::after {align-self: flex-end;width: 50%;}#sk-container-id-1 div.sk-parallel-item:last-child::after {align-self: flex-start;width: 50%;}#sk-container-id-1 div.sk-parallel-item:only-child::after {width: 0;}#sk-container-id-1 div.sk-dashed-wrapped {border: 1px dashed gray;margin: 0 0.4em 0.5em 0.4em;box-sizing: border-box;padding-bottom: 0.4em;background-color: white;}#sk-container-id-1 div.sk-label label {font-family: monospace;font-weight: bold;display: inline-block;line-height: 1.2em;}#sk-container-id-1 div.sk-label-container {text-align: center;}#sk-container-id-1 div.sk-container {/* jupyter's `normalize.less` sets `[hidden] { display: none; }` but bootstrap.min.css set `[hidden] { display: none !important; }` so we also need the `!important` here to be able to override the default hidden behavior on the sphinx rendered scikit-learn.org. See: https://github.com/scikit-learn/scikit-learn/issues/21755 */display: inline-block !important;position: relative;}#sk-container-id-1 div.sk-text-repr-fallback {display: none;}</style><div id=\"sk-container-id-1\" class=\"sk-top-container\"><div class=\"sk-text-repr-fallback\"><pre>XGBClassifier(base_score=None, booster=None, callbacks=None,\n",
       "              colsample_bylevel=None, colsample_bynode=None,\n",
       "              colsample_bytree=None, early_stopping_rounds=None,\n",
       "              enable_categorical=False, eval_metric=None, feature_types=None,\n",
       "              gamma=None, gpu_id=None, grow_policy=None, importance_type=None,\n",
       "              interaction_constraints=None, learning_rate=None, max_bin=None,\n",
       "              max_cat_threshold=None, max_cat_to_onehot=None,\n",
       "              max_delta_step=None, max_depth=None, max_leaves=None,\n",
       "              min_child_weight=None, missing=nan, monotone_constraints=None,\n",
       "              n_estimators=100, n_jobs=None, num_parallel_tree=None,\n",
       "              objective=&#x27;multi:softprob&#x27;, predictor=None, ...)</pre><b>In a Jupyter environment, please rerun this cell to show the HTML representation or trust the notebook. <br />On GitHub, the HTML representation is unable to render, please try loading this page with nbviewer.org.</b></div><div class=\"sk-container\" hidden><div class=\"sk-item\"><div class=\"sk-estimator sk-toggleable\"><input class=\"sk-toggleable__control sk-hidden--visually\" id=\"sk-estimator-id-1\" type=\"checkbox\" checked><label for=\"sk-estimator-id-1\" class=\"sk-toggleable__label sk-toggleable__label-arrow\">XGBClassifier</label><div class=\"sk-toggleable__content\"><pre>XGBClassifier(base_score=None, booster=None, callbacks=None,\n",
       "              colsample_bylevel=None, colsample_bynode=None,\n",
       "              colsample_bytree=None, early_stopping_rounds=None,\n",
       "              enable_categorical=False, eval_metric=None, feature_types=None,\n",
       "              gamma=None, gpu_id=None, grow_policy=None, importance_type=None,\n",
       "              interaction_constraints=None, learning_rate=None, max_bin=None,\n",
       "              max_cat_threshold=None, max_cat_to_onehot=None,\n",
       "              max_delta_step=None, max_depth=None, max_leaves=None,\n",
       "              min_child_weight=None, missing=nan, monotone_constraints=None,\n",
       "              n_estimators=100, n_jobs=None, num_parallel_tree=None,\n",
       "              objective=&#x27;multi:softprob&#x27;, predictor=None, ...)</pre></div></div></div></div></div>"
      ],
      "text/plain": [
       "XGBClassifier(base_score=None, booster=None, callbacks=None,\n",
       "              colsample_bylevel=None, colsample_bynode=None,\n",
       "              colsample_bytree=None, early_stopping_rounds=None,\n",
       "              enable_categorical=False, eval_metric=None, feature_types=None,\n",
       "              gamma=None, gpu_id=None, grow_policy=None, importance_type=None,\n",
       "              interaction_constraints=None, learning_rate=None, max_bin=None,\n",
       "              max_cat_threshold=None, max_cat_to_onehot=None,\n",
       "              max_delta_step=None, max_depth=None, max_leaves=None,\n",
       "              min_child_weight=None, missing=nan, monotone_constraints=None,\n",
       "              n_estimators=100, n_jobs=None, num_parallel_tree=None,\n",
       "              objective='multi:softprob', predictor=None, ...)"
      ]
     },
     "execution_count": 10,
     "metadata": {},
     "output_type": "execute_result"
    }
   ],
   "source": [
    "#run de xgbc with the standard parameters\n",
    "model_xgbc = XGBClassifier()\n",
    "model_xgbc.fit(X_train, y_train_encoded)"
   ]
  },
  {
   "cell_type": "code",
   "execution_count": 11,
   "metadata": {},
   "outputs": [],
   "source": [
    "#create a serie with the predicted values from test values\n",
    "y_pred_xgbc = model_xgbc.predict(X_test)"
   ]
  },
  {
   "cell_type": "code",
   "execution_count": 12,
   "metadata": {},
   "outputs": [
    {
     "name": "stdout",
     "output_type": "stream",
     "text": [
      "Evaluation XGBClassifier model\n",
      "================================\n",
      "Accuracy : 79.79%\n",
      "Precision: 77.41%\n",
      "Recall   : 79.79%\n",
      "f1 score : 78.48%\n"
     ]
    }
   ],
   "source": [
    "#Evaluating the model\n",
    "accuracy  = accuracy_score(y_test_encoded, y_pred_xgbc)\n",
    "precision =  precision_score(y_test_encoded, y_pred_xgbc, average= 'weighted')\n",
    "recall    =  recall_score(y_test_encoded, y_pred_xgbc, average= 'weighted')\n",
    "f1_score  = f1_score(y_test_encoded, y_pred_xgbc, average='weighted')\n",
    "print('Evaluation XGBClassifier model')\n",
    "print('================================')\n",
    "print(\"Accuracy : %.2f%%\" % (accuracy * 100.0))\n",
    "print(\"Precision: %.2f%%\" % (precision * 100.0))\n",
    "print(\"Recall   : %.2f%%\" % (recall * 100.0))\n",
    "print(\"f1 score : %.2f%%\" % (f1_score * 100.0))"
   ]
  },
  {
   "cell_type": "code",
   "execution_count": 13,
   "metadata": {},
   "outputs": [
    {
     "name": "stdout",
     "output_type": "stream",
     "text": [
      "[[   2    2   24]\n",
      " [   1   74  272]\n",
      " [  10  189 1890]]\n"
     ]
    }
   ],
   "source": [
    "#Display confussion matrix\n",
    "cm = confusion_matrix(y_test_encoded, y_pred_xgbc)\n",
    "print (cm)"
   ]
  },
  {
   "cell_type": "code",
   "execution_count": 14,
   "metadata": {},
   "outputs": [
    {
     "name": "stdout",
     "output_type": "stream",
     "text": [
      " XGBClassifier: \n",
      "               precision    recall  f1-score   support\n",
      "\n",
      "           0       0.07      0.15      0.10        13\n",
      "           1       0.21      0.28      0.24       265\n",
      "           2       0.90      0.86      0.88      2186\n",
      "\n",
      "    accuracy                           0.80      2464\n",
      "   macro avg       0.40      0.43      0.41      2464\n",
      "weighted avg       0.83      0.80      0.81      2464\n",
      "\n"
     ]
    }
   ],
   "source": [
    "#classification report\n",
    "print(\" XGBClassifier: \\n\",classification_report(y_pred_xgbc,y_test_encoded))"
   ]
  },
  {
   "attachments": {},
   "cell_type": "markdown",
   "metadata": {},
   "source": [
    "<hr>\n",
    "<h2>RandomForest model</h2>\n",
    "<hr>\n",
    "<p>Random forest, like its name implies, consists of a large number of individual decision trees that operate as an ensemble. Each individual tree in the random forest spits out a class prediction and the class with the most votes becomes our model’s prediction</p>\n",
    "<p>The fundamental concept behind random forest is a simple but powerful one — the wisdom of crowds. In data science speak, the reason that the random forest model works so well is:</p>\n",
    "\n",
    "<p>The low correlation between models is the key. Just like how investments with low correlations (like stocks and bonds) come together to form a portfolio that is greater than the sum of its parts, uncorrelated models can produce ensemble predictions that are more accurate than any of the individual predictions. The reason for this wonderful effect is that the trees protect each other from their individual errors (as long as they don’t constantly all err in the same direction). While some trees may be wrong, many other trees will be right, so as a group the trees are able to move in the correct direction.</p>"
   ]
  },
  {
   "cell_type": "code",
   "execution_count": 15,
   "metadata": {},
   "outputs": [
    {
     "data": {
      "text/html": [
       "<style>#sk-container-id-2 {color: black;background-color: white;}#sk-container-id-2 pre{padding: 0;}#sk-container-id-2 div.sk-toggleable {background-color: white;}#sk-container-id-2 label.sk-toggleable__label {cursor: pointer;display: block;width: 100%;margin-bottom: 0;padding: 0.3em;box-sizing: border-box;text-align: center;}#sk-container-id-2 label.sk-toggleable__label-arrow:before {content: \"▸\";float: left;margin-right: 0.25em;color: #696969;}#sk-container-id-2 label.sk-toggleable__label-arrow:hover:before {color: black;}#sk-container-id-2 div.sk-estimator:hover label.sk-toggleable__label-arrow:before {color: black;}#sk-container-id-2 div.sk-toggleable__content {max-height: 0;max-width: 0;overflow: hidden;text-align: left;background-color: #f0f8ff;}#sk-container-id-2 div.sk-toggleable__content pre {margin: 0.2em;color: black;border-radius: 0.25em;background-color: #f0f8ff;}#sk-container-id-2 input.sk-toggleable__control:checked~div.sk-toggleable__content {max-height: 200px;max-width: 100%;overflow: auto;}#sk-container-id-2 input.sk-toggleable__control:checked~label.sk-toggleable__label-arrow:before {content: \"▾\";}#sk-container-id-2 div.sk-estimator input.sk-toggleable__control:checked~label.sk-toggleable__label {background-color: #d4ebff;}#sk-container-id-2 div.sk-label input.sk-toggleable__control:checked~label.sk-toggleable__label {background-color: #d4ebff;}#sk-container-id-2 input.sk-hidden--visually {border: 0;clip: rect(1px 1px 1px 1px);clip: rect(1px, 1px, 1px, 1px);height: 1px;margin: -1px;overflow: hidden;padding: 0;position: absolute;width: 1px;}#sk-container-id-2 div.sk-estimator {font-family: monospace;background-color: #f0f8ff;border: 1px dotted black;border-radius: 0.25em;box-sizing: border-box;margin-bottom: 0.5em;}#sk-container-id-2 div.sk-estimator:hover {background-color: #d4ebff;}#sk-container-id-2 div.sk-parallel-item::after {content: \"\";width: 100%;border-bottom: 1px solid gray;flex-grow: 1;}#sk-container-id-2 div.sk-label:hover label.sk-toggleable__label {background-color: #d4ebff;}#sk-container-id-2 div.sk-serial::before {content: \"\";position: absolute;border-left: 1px solid gray;box-sizing: border-box;top: 0;bottom: 0;left: 50%;z-index: 0;}#sk-container-id-2 div.sk-serial {display: flex;flex-direction: column;align-items: center;background-color: white;padding-right: 0.2em;padding-left: 0.2em;position: relative;}#sk-container-id-2 div.sk-item {position: relative;z-index: 1;}#sk-container-id-2 div.sk-parallel {display: flex;align-items: stretch;justify-content: center;background-color: white;position: relative;}#sk-container-id-2 div.sk-item::before, #sk-container-id-2 div.sk-parallel-item::before {content: \"\";position: absolute;border-left: 1px solid gray;box-sizing: border-box;top: 0;bottom: 0;left: 50%;z-index: -1;}#sk-container-id-2 div.sk-parallel-item {display: flex;flex-direction: column;z-index: 1;position: relative;background-color: white;}#sk-container-id-2 div.sk-parallel-item:first-child::after {align-self: flex-end;width: 50%;}#sk-container-id-2 div.sk-parallel-item:last-child::after {align-self: flex-start;width: 50%;}#sk-container-id-2 div.sk-parallel-item:only-child::after {width: 0;}#sk-container-id-2 div.sk-dashed-wrapped {border: 1px dashed gray;margin: 0 0.4em 0.5em 0.4em;box-sizing: border-box;padding-bottom: 0.4em;background-color: white;}#sk-container-id-2 div.sk-label label {font-family: monospace;font-weight: bold;display: inline-block;line-height: 1.2em;}#sk-container-id-2 div.sk-label-container {text-align: center;}#sk-container-id-2 div.sk-container {/* jupyter's `normalize.less` sets `[hidden] { display: none; }` but bootstrap.min.css set `[hidden] { display: none !important; }` so we also need the `!important` here to be able to override the default hidden behavior on the sphinx rendered scikit-learn.org. See: https://github.com/scikit-learn/scikit-learn/issues/21755 */display: inline-block !important;position: relative;}#sk-container-id-2 div.sk-text-repr-fallback {display: none;}</style><div id=\"sk-container-id-2\" class=\"sk-top-container\"><div class=\"sk-text-repr-fallback\"><pre>RandomForestClassifier(n_estimators=200)</pre><b>In a Jupyter environment, please rerun this cell to show the HTML representation or trust the notebook. <br />On GitHub, the HTML representation is unable to render, please try loading this page with nbviewer.org.</b></div><div class=\"sk-container\" hidden><div class=\"sk-item\"><div class=\"sk-estimator sk-toggleable\"><input class=\"sk-toggleable__control sk-hidden--visually\" id=\"sk-estimator-id-2\" type=\"checkbox\" checked><label for=\"sk-estimator-id-2\" class=\"sk-toggleable__label sk-toggleable__label-arrow\">RandomForestClassifier</label><div class=\"sk-toggleable__content\"><pre>RandomForestClassifier(n_estimators=200)</pre></div></div></div></div></div>"
      ],
      "text/plain": [
       "RandomForestClassifier(n_estimators=200)"
      ]
     },
     "execution_count": 15,
     "metadata": {},
     "output_type": "execute_result"
    }
   ],
   "source": [
    "#run de randomForest model with standard parameters\n",
    "forest_params = [{'max_depth': list(range(10, 15)), 'max_features': list(range(0,14))}]\n",
    "model_rf = RandomForestClassifier(n_estimators=200)\n",
    "model_rf.fit(X_train, y_train_encoded)"
   ]
  },
  {
   "cell_type": "code",
   "execution_count": 16,
   "metadata": {},
   "outputs": [],
   "source": [
    "#create a serie with the predicted values from test values\n",
    "y_pred_rfc = model_rf.predict(X_test)"
   ]
  },
  {
   "cell_type": "code",
   "execution_count": 19,
   "metadata": {},
   "outputs": [
    {
     "name": "stdout",
     "output_type": "stream",
     "text": [
      "Evaluation Random forest model\n",
      "=======================================\n",
      "Accuracy : 81.05%\n",
      "Precision: 78.35%\n",
      "Recall   : 81.05%\n",
      "f1 score : 79.42%\n"
     ]
    }
   ],
   "source": [
    "#Evaluating the model\n",
    "accuracy  = accuracy_score(y_test_encoded, y_pred_rfc)\n",
    "precision =  precision_score(y_test_encoded, y_pred_rfc, average= 'weighted')\n",
    "recall    =  recall_score(y_test_encoded, y_pred_rfc, average= 'weighted')\n",
    "f1_score  = f1_score(y_test_encoded, y_pred_rfc, average='weighted')\n",
    "print('Evaluation Random forest model')\n",
    "print('=======================================')\n",
    "print(\"Accuracy : %.2f%%\" % (accuracy * 100.0))\n",
    "print(\"Precision: %.2f%%\" % (precision * 100.0))\n",
    "print(\"Recall   : %.2f%%\" % (recall * 100.0))\n",
    "print(\"f1 score : %.2f%%\" % (f1_score * 100.0))"
   ]
  },
  {
   "cell_type": "code",
   "execution_count": 20,
   "metadata": {},
   "outputs": [
    {
     "name": "stdout",
     "output_type": "stream",
     "text": [
      "[[   3    3   22]\n",
      " [   1   75  271]\n",
      " [   3  167 1919]]\n"
     ]
    }
   ],
   "source": [
    "#Display confussion matrix\n",
    "cm = confusion_matrix(y_test_encoded, y_pred_rfc)\n",
    "print (cm)"
   ]
  },
  {
   "cell_type": "code",
   "execution_count": 21,
   "metadata": {},
   "outputs": [
    {
     "name": "stdout",
     "output_type": "stream",
     "text": [
      " Random Forest: \n",
      "               precision    recall  f1-score   support\n",
      "\n",
      "           0       0.11      0.43      0.17         7\n",
      "           1       0.22      0.31      0.25       245\n",
      "           2       0.92      0.87      0.89      2212\n",
      "\n",
      "    accuracy                           0.81      2464\n",
      "   macro avg       0.41      0.53      0.44      2464\n",
      "weighted avg       0.85      0.81      0.83      2464\n",
      "\n"
     ]
    }
   ],
   "source": [
    "#classification report\n",
    "print(\" Random Forest: \\n\",classification_report(y_pred_rfc,y_test_encoded))"
   ]
  },
  {
   "attachments": {},
   "cell_type": "markdown",
   "metadata": {},
   "source": [
    "<hr>\n",
    "<h2>Extra trees model</h2>\n",
    "<hr>\n",
    "<p>Extra trees (short for extremely randomized trees) is an ensemble supervised machine learning method that uses decision trees and is used by the Train Using AutoML tool. See Decision trees classification and regression algorithm for information about how decision trees work.</p>\n",
    "<p>What's the difference between random forest and extra tree classifier?. Random Forests build multiple decision trees over bootstrapped subsets of the data, whereas Extra Trees algorithms build multiple decision trees over the entire dataset.</p>"
   ]
  },
  {
   "cell_type": "code",
   "execution_count": 22,
   "metadata": {},
   "outputs": [
    {
     "data": {
      "text/html": [
       "<style>#sk-container-id-3 {color: black;background-color: white;}#sk-container-id-3 pre{padding: 0;}#sk-container-id-3 div.sk-toggleable {background-color: white;}#sk-container-id-3 label.sk-toggleable__label {cursor: pointer;display: block;width: 100%;margin-bottom: 0;padding: 0.3em;box-sizing: border-box;text-align: center;}#sk-container-id-3 label.sk-toggleable__label-arrow:before {content: \"▸\";float: left;margin-right: 0.25em;color: #696969;}#sk-container-id-3 label.sk-toggleable__label-arrow:hover:before {color: black;}#sk-container-id-3 div.sk-estimator:hover label.sk-toggleable__label-arrow:before {color: black;}#sk-container-id-3 div.sk-toggleable__content {max-height: 0;max-width: 0;overflow: hidden;text-align: left;background-color: #f0f8ff;}#sk-container-id-3 div.sk-toggleable__content pre {margin: 0.2em;color: black;border-radius: 0.25em;background-color: #f0f8ff;}#sk-container-id-3 input.sk-toggleable__control:checked~div.sk-toggleable__content {max-height: 200px;max-width: 100%;overflow: auto;}#sk-container-id-3 input.sk-toggleable__control:checked~label.sk-toggleable__label-arrow:before {content: \"▾\";}#sk-container-id-3 div.sk-estimator input.sk-toggleable__control:checked~label.sk-toggleable__label {background-color: #d4ebff;}#sk-container-id-3 div.sk-label input.sk-toggleable__control:checked~label.sk-toggleable__label {background-color: #d4ebff;}#sk-container-id-3 input.sk-hidden--visually {border: 0;clip: rect(1px 1px 1px 1px);clip: rect(1px, 1px, 1px, 1px);height: 1px;margin: -1px;overflow: hidden;padding: 0;position: absolute;width: 1px;}#sk-container-id-3 div.sk-estimator {font-family: monospace;background-color: #f0f8ff;border: 1px dotted black;border-radius: 0.25em;box-sizing: border-box;margin-bottom: 0.5em;}#sk-container-id-3 div.sk-estimator:hover {background-color: #d4ebff;}#sk-container-id-3 div.sk-parallel-item::after {content: \"\";width: 100%;border-bottom: 1px solid gray;flex-grow: 1;}#sk-container-id-3 div.sk-label:hover label.sk-toggleable__label {background-color: #d4ebff;}#sk-container-id-3 div.sk-serial::before {content: \"\";position: absolute;border-left: 1px solid gray;box-sizing: border-box;top: 0;bottom: 0;left: 50%;z-index: 0;}#sk-container-id-3 div.sk-serial {display: flex;flex-direction: column;align-items: center;background-color: white;padding-right: 0.2em;padding-left: 0.2em;position: relative;}#sk-container-id-3 div.sk-item {position: relative;z-index: 1;}#sk-container-id-3 div.sk-parallel {display: flex;align-items: stretch;justify-content: center;background-color: white;position: relative;}#sk-container-id-3 div.sk-item::before, #sk-container-id-3 div.sk-parallel-item::before {content: \"\";position: absolute;border-left: 1px solid gray;box-sizing: border-box;top: 0;bottom: 0;left: 50%;z-index: -1;}#sk-container-id-3 div.sk-parallel-item {display: flex;flex-direction: column;z-index: 1;position: relative;background-color: white;}#sk-container-id-3 div.sk-parallel-item:first-child::after {align-self: flex-end;width: 50%;}#sk-container-id-3 div.sk-parallel-item:last-child::after {align-self: flex-start;width: 50%;}#sk-container-id-3 div.sk-parallel-item:only-child::after {width: 0;}#sk-container-id-3 div.sk-dashed-wrapped {border: 1px dashed gray;margin: 0 0.4em 0.5em 0.4em;box-sizing: border-box;padding-bottom: 0.4em;background-color: white;}#sk-container-id-3 div.sk-label label {font-family: monospace;font-weight: bold;display: inline-block;line-height: 1.2em;}#sk-container-id-3 div.sk-label-container {text-align: center;}#sk-container-id-3 div.sk-container {/* jupyter's `normalize.less` sets `[hidden] { display: none; }` but bootstrap.min.css set `[hidden] { display: none !important; }` so we also need the `!important` here to be able to override the default hidden behavior on the sphinx rendered scikit-learn.org. See: https://github.com/scikit-learn/scikit-learn/issues/21755 */display: inline-block !important;position: relative;}#sk-container-id-3 div.sk-text-repr-fallback {display: none;}</style><div id=\"sk-container-id-3\" class=\"sk-top-container\"><div class=\"sk-text-repr-fallback\"><pre>ExtraTreesClassifier()</pre><b>In a Jupyter environment, please rerun this cell to show the HTML representation or trust the notebook. <br />On GitHub, the HTML representation is unable to render, please try loading this page with nbviewer.org.</b></div><div class=\"sk-container\" hidden><div class=\"sk-item\"><div class=\"sk-estimator sk-toggleable\"><input class=\"sk-toggleable__control sk-hidden--visually\" id=\"sk-estimator-id-3\" type=\"checkbox\" checked><label for=\"sk-estimator-id-3\" class=\"sk-toggleable__label sk-toggleable__label-arrow\">ExtraTreesClassifier</label><div class=\"sk-toggleable__content\"><pre>ExtraTreesClassifier()</pre></div></div></div></div></div>"
      ],
      "text/plain": [
       "ExtraTreesClassifier()"
      ]
     },
     "execution_count": 22,
     "metadata": {},
     "output_type": "execute_result"
    }
   ],
   "source": [
    "#run the extra trees model with standard parameters\n",
    "model_extree = ExtraTreesClassifier()\n",
    "model_extree.fit(X_train, y_train_encoded)"
   ]
  },
  {
   "cell_type": "code",
   "execution_count": 23,
   "metadata": {},
   "outputs": [],
   "source": [
    "#get the predicted values\n",
    "y_pred_et = model_extree.predict(X_test)"
   ]
  },
  {
   "cell_type": "code",
   "execution_count": 26,
   "metadata": {},
   "outputs": [
    {
     "name": "stdout",
     "output_type": "stream",
     "text": [
      "Evaluation Extra trees model\n",
      "=======================================\n",
      "Accuracy : 82.06%\n",
      "Precision: 77.63%\n",
      "Recall   : 82.06%\n",
      "f1 score : 79.29%\n"
     ]
    }
   ],
   "source": [
    "#Evaluating the model\n",
    "accuracy  = accuracy_score(y_test_encoded, y_pred_et)\n",
    "precision =  precision_score(y_test_encoded, y_pred_et, average= 'weighted')\n",
    "recall    =  recall_score(y_test_encoded, y_pred_et, average= 'weighted')\n",
    "f1_score  = f1_score(y_test_encoded, y_pred_et, average='weighted')\n",
    "print('Evaluation Extra trees model')\n",
    "print('=======================================')\n",
    "print(\"Accuracy : %.2f%%\" % (accuracy * 100.0))\n",
    "print(\"Precision: %.2f%%\" % (precision * 100.0))\n",
    "print(\"Recall   : %.2f%%\" % (recall * 100.0))\n",
    "print(\"f1 score : %.2f%%\" % (f1_score * 100.0))"
   ]
  },
  {
   "cell_type": "code",
   "execution_count": 27,
   "metadata": {},
   "outputs": [
    {
     "name": "stdout",
     "output_type": "stream",
     "text": [
      "[[   1    2   25]\n",
      " [   1   55  291]\n",
      " [   4  119 1966]]\n"
     ]
    }
   ],
   "source": [
    "#Display confussion matrix\n",
    "cm = confusion_matrix(y_test_encoded, y_pred_et)\n",
    "print (cm)"
   ]
  },
  {
   "cell_type": "code",
   "execution_count": 28,
   "metadata": {},
   "outputs": [
    {
     "name": "stdout",
     "output_type": "stream",
     "text": [
      " Extra Tree Classifier: \n",
      "               precision    recall  f1-score   support\n",
      "\n",
      "           0       0.04      0.17      0.06         6\n",
      "           1       0.16      0.31      0.21       176\n",
      "           2       0.94      0.86      0.90      2282\n",
      "\n",
      "    accuracy                           0.82      2464\n",
      "   macro avg       0.38      0.45      0.39      2464\n",
      "weighted avg       0.88      0.82      0.85      2464\n",
      "\n"
     ]
    }
   ],
   "source": [
    "#classification report\n",
    "print(\" Extra Tree Classifier: \\n\",classification_report(y_pred_et,y_test_encoded))"
   ]
  },
  {
   "cell_type": "code",
   "execution_count": 29,
   "metadata": {},
   "outputs": [
    {
     "data": {
      "image/png": "[encoded data removed]",
      "text/plain": [
       "<Figure size 360x360 with 1 Axes>"
      ]
     },
     "metadata": {
      "needs_background": "light"
     },
     "output_type": "display_data"
    },
    {
     "data": {
      "image/png": "[encoded data removed]",
      "text/plain": [
       "<Figure size 360x360 with 1 Axes>"
      ]
     },
     "metadata": {
      "needs_background": "light"
     },
     "output_type": "display_data"
    },
    {
     "data": {
      "image/png": "[encoded data removed]",
      "text/plain": [
       "<Figure size 360x360 with 1 Axes>"
      ]
     },
     "metadata": {
      "needs_background": "light"
     },
     "output_type": "display_data"
    }
   ],
   "source": [
    "tb = mcnemar_tables(y_test_encoded, \n",
    "                    y_pred_xgbc,\n",
    "                    y_pred_rfc, \n",
    "                    y_pred_et)\n",
    "\n",
    "brd = checkerboard_plot(tb['model_0 vs model_1'],\n",
    "                        figsize=(5, 5),\n",
    "                        fmt='%d',\n",
    "                        col_labels=['model rf wrong', 'model rf right'],\n",
    "                        row_labels=['model xgb wrong', 'model xgb right'])\n",
    "plt.show()\n",
    "\n",
    "brd = checkerboard_plot(tb['model_0 vs model_2'],\n",
    "                        figsize=(5, 5),\n",
    "                        fmt='%d',\n",
    "                        col_labels=['model ext wrong', 'model ext right'],\n",
    "                        row_labels=['model xgb wrong', 'model xgb right'])\n",
    "plt.show()\n",
    "\n",
    "brd = checkerboard_plot(tb['model_1 vs model_2'],\n",
    "                        figsize=(5, 5),\n",
    "                        fmt='%d',\n",
    "                        col_labels=['model ext wrong', 'model ext right'],\n",
    "                        row_labels=['model rf wrong', 'model rf right'])\n",
    "plt.show()"
   ]
  },
  {
   "attachments": {},
   "cell_type": "markdown",
   "metadata": {},
   "source": [
    "<hr>\n",
    "<h2>Hyperparameters tunning</h2>\n",
    "<hr>\n",
    "<p>Let's start to tune the extratree's hyperparameters. because That algorithm had the better accuracy 82.02% and the better f1-socre: 79.14% </p>"
   ]
  },
  {
   "cell_type": "code",
   "execution_count": 30,
   "metadata": {},
   "outputs": [
    {
     "name": "stdout",
     "output_type": "stream",
     "text": [
      "Fitting 3 folds for each of 32 candidates, totalling 96 fits\n",
      "[CV 2/3] END ccp_alpha=0.0, criterion=gini, max_depth=5, min_samples_split=2, n_estimators=100;, score=0.652 total time=   1.4s\n",
      "[CV 1/3] END ccp_alpha=0.0, criterion=gini, max_depth=5, min_samples_split=2, n_estimators=100;, score=0.656 total time=   1.4s\n",
      "[CV 3/3] END ccp_alpha=0.0, criterion=gini, max_depth=5, min_samples_split=2, n_estimators=100;, score=0.670 total time=   1.6s\n",
      "[CV 1/3] END ccp_alpha=0.0, criterion=gini, max_depth=5, min_samples_split=2, n_estimators=200;, score=0.649 total time=   3.2s\n",
      "[CV 2/3] END ccp_alpha=0.0, criterion=gini, max_depth=5, min_samples_split=2, n_estimators=200;, score=0.667 total time=   3.0s\n",
      "[CV 3/3] END ccp_alpha=0.0, criterion=gini, max_depth=5, min_samples_split=2, n_estimators=200;, score=0.663 total time=   3.0s\n",
      "[CV 1/3] END ccp_alpha=0.0, criterion=gini, max_depth=5, min_samples_split=2, n_estimators=300;, score=0.648 total time=   4.1s\n",
      "[CV 2/3] END ccp_alpha=0.0, criterion=gini, max_depth=5, min_samples_split=2, n_estimators=300;, score=0.658 total time=   4.0s\n",
      "[CV 3/3] END ccp_alpha=0.0, criterion=gini, max_depth=5, min_samples_split=2, n_estimators=300;, score=0.658 total time=   3.9s\n",
      "[CV 1/3] END ccp_alpha=0.0, criterion=gini, max_depth=5, min_samples_split=3, n_estimators=100;, score=0.657 total time=   1.3s\n",
      "[CV 1/3] END ccp_alpha=0.0, criterion=gini, max_depth=5, min_samples_split=2, n_estimators=400;, score=0.642 total time=   5.5s\n",
      "[CV 2/3] END ccp_alpha=0.0, criterion=gini, max_depth=5, min_samples_split=3, n_estimators=100;, score=0.656 total time=   1.3s\n",
      "[CV 2/3] END ccp_alpha=0.0, criterion=gini, max_depth=5, min_samples_split=2, n_estimators=400;, score=0.655 total time=   5.3s\n",
      "[CV 3/3] END ccp_alpha=0.0, criterion=gini, max_depth=5, min_samples_split=3, n_estimators=100;, score=0.657 total time=   1.4s\n",
      "[CV 3/3] END ccp_alpha=0.0, criterion=gini, max_depth=5, min_samples_split=2, n_estimators=400;, score=0.659 total time=   5.5s\n",
      "[CV 1/3] END ccp_alpha=0.0, criterion=gini, max_depth=5, min_samples_split=3, n_estimators=200;, score=0.647 total time=   2.7s\n",
      "[CV 2/3] END ccp_alpha=0.0, criterion=gini, max_depth=5, min_samples_split=3, n_estimators=200;, score=0.659 total time=   2.7s\n",
      "[CV 3/3] END ccp_alpha=0.0, criterion=gini, max_depth=5, min_samples_split=3, n_estimators=200;, score=0.676 total time=   2.8s\n",
      "[CV 1/3] END ccp_alpha=0.0, criterion=gini, max_depth=5, min_samples_split=3, n_estimators=300;, score=0.647 total time=   4.2s\n",
      "[CV 3/3] END ccp_alpha=0.0, criterion=gini, max_depth=5, min_samples_split=3, n_estimators=300;, score=0.663 total time=   3.8s\n",
      "[CV 2/3] END ccp_alpha=0.0, criterion=gini, max_depth=5, min_samples_split=3, n_estimators=300;, score=0.660 total time=   4.2s\n",
      "[CV 1/3] END ccp_alpha=0.0, criterion=gini, max_depth=5, min_samples_split=3, n_estimators=400;, score=0.643 total time=   5.4s\n",
      "[CV 1/3] END ccp_alpha=0.0, criterion=gini, max_depth=11, min_samples_split=2, n_estimators=100;, score=0.828 total time=   2.7s\n",
      "[CV 2/3] END ccp_alpha=0.0, criterion=gini, max_depth=5, min_samples_split=3, n_estimators=400;, score=0.651 total time=   5.1s\n",
      "[CV 2/3] END ccp_alpha=0.0, criterion=gini, max_depth=11, min_samples_split=2, n_estimators=100;, score=0.841 total time=   2.7s\n",
      "[CV 3/3] END ccp_alpha=0.0, criterion=gini, max_depth=5, min_samples_split=3, n_estimators=400;, score=0.660 total time=   5.4s\n",
      "[CV 3/3] END ccp_alpha=0.0, criterion=gini, max_depth=11, min_samples_split=2, n_estimators=100;, score=0.831 total time=   2.8s\n",
      "[CV 1/3] END ccp_alpha=0.0, criterion=gini, max_depth=11, min_samples_split=2, n_estimators=200;, score=0.832 total time=   5.0s\n",
      "[CV 2/3] END ccp_alpha=0.0, criterion=gini, max_depth=11, min_samples_split=2, n_estimators=200;, score=0.840 total time=   5.4s\n",
      "[CV 3/3] END ccp_alpha=0.0, criterion=gini, max_depth=11, min_samples_split=2, n_estimators=200;, score=0.833 total time=   5.3s\n",
      "[CV 1/3] END ccp_alpha=0.0, criterion=gini, max_depth=11, min_samples_split=2, n_estimators=300;, score=0.831 total time=   8.3s\n",
      "[CV 2/3] END ccp_alpha=0.0, criterion=gini, max_depth=11, min_samples_split=2, n_estimators=300;, score=0.843 total time=   7.7s\n",
      "[CV 3/3] END ccp_alpha=0.0, criterion=gini, max_depth=11, min_samples_split=2, n_estimators=300;, score=0.832 total time=   8.3s\n",
      "[CV 1/3] END ccp_alpha=0.0, criterion=gini, max_depth=11, min_samples_split=3, n_estimators=100;, score=0.833 total time=   2.8s\n",
      "[CV 1/3] END ccp_alpha=0.0, criterion=gini, max_depth=11, min_samples_split=2, n_estimators=400;, score=0.835 total time=  11.0s\n",
      "[CV 2/3] END ccp_alpha=0.0, criterion=gini, max_depth=11, min_samples_split=3, n_estimators=100;, score=0.840 total time=   2.8s\n",
      "[CV 3/3] END ccp_alpha=0.0, criterion=gini, max_depth=11, min_samples_split=3, n_estimators=100;, score=0.827 total time=   2.5s\n",
      "[CV 2/3] END ccp_alpha=0.0, criterion=gini, max_depth=11, min_samples_split=2, n_estimators=400;, score=0.843 total time=  11.1s\n",
      "[CV 3/3] END ccp_alpha=0.0, criterion=gini, max_depth=11, min_samples_split=2, n_estimators=400;, score=0.834 total time=  10.9s\n",
      "[CV 1/3] END ccp_alpha=0.0, criterion=gini, max_depth=11, min_samples_split=3, n_estimators=200;, score=0.835 total time=   5.6s\n",
      "[CV 2/3] END ccp_alpha=0.0, criterion=gini, max_depth=11, min_samples_split=3, n_estimators=200;, score=0.844 total time=   5.4s\n",
      "[CV 3/3] END ccp_alpha=0.0, criterion=gini, max_depth=11, min_samples_split=3, n_estimators=200;, score=0.832 total time=   5.5s\n",
      "[CV 1/3] END ccp_alpha=0.0, criterion=gini, max_depth=11, min_samples_split=3, n_estimators=300;, score=0.832 total time=   7.4s\n",
      "[CV 3/3] END ccp_alpha=0.0, criterion=gini, max_depth=11, min_samples_split=3, n_estimators=300;, score=0.836 total time=   7.6s\n",
      "[CV 2/3] END ccp_alpha=0.0, criterion=gini, max_depth=11, min_samples_split=3, n_estimators=300;, score=0.841 total time=   8.3s\n",
      "[CV 1/3] END ccp_alpha=0.1, criterion=gini, max_depth=5, min_samples_split=2, n_estimators=100;, score=0.165 total time=   1.3s\n",
      "[CV 2/3] END ccp_alpha=0.1, criterion=gini, max_depth=5, min_samples_split=2, n_estimators=100;, score=0.161 total time=   1.4s\n",
      "[CV 1/3] END ccp_alpha=0.0, criterion=gini, max_depth=11, min_samples_split=3, n_estimators=400;, score=0.827 total time=  11.1s\n",
      "[CV 3/3] END ccp_alpha=0.1, criterion=gini, max_depth=5, min_samples_split=2, n_estimators=100;, score=0.164 total time=   1.7s\n",
      "[CV 1/3] END ccp_alpha=0.1, criterion=gini, max_depth=5, min_samples_split=2, n_estimators=200;, score=0.165 total time=   3.1s\n",
      "[CV 2/3] END ccp_alpha=0.1, criterion=gini, max_depth=5, min_samples_split=2, n_estimators=200;, score=0.161 total time=   2.6s\n",
      "[CV 2/3] END ccp_alpha=0.0, criterion=gini, max_depth=11, min_samples_split=3, n_estimators=400;, score=0.838 total time=  10.5s\n",
      "[CV 3/3] END ccp_alpha=0.1, criterion=gini, max_depth=5, min_samples_split=2, n_estimators=200;, score=0.164 total time=   2.7s\n",
      "[CV 3/3] END ccp_alpha=0.0, criterion=gini, max_depth=11, min_samples_split=3, n_estimators=400;, score=0.830 total time=  10.4s\n",
      "[CV 1/3] END ccp_alpha=0.1, criterion=gini, max_depth=5, min_samples_split=2, n_estimators=300;, score=0.165 total time=   3.9s\n",
      "[CV 2/3] END ccp_alpha=0.1, criterion=gini, max_depth=5, min_samples_split=2, n_estimators=300;, score=0.161 total time=   3.7s\n",
      "[CV 3/3] END ccp_alpha=0.1, criterion=gini, max_depth=5, min_samples_split=2, n_estimators=300;, score=0.164 total time=   3.9s\n",
      "[CV 1/3] END ccp_alpha=0.1, criterion=gini, max_depth=5, min_samples_split=3, n_estimators=100;, score=0.165 total time=   1.4s\n",
      "[CV 1/3] END ccp_alpha=0.1, criterion=gini, max_depth=5, min_samples_split=2, n_estimators=400;, score=0.165 total time=   5.4s\n",
      "[CV 2/3] END ccp_alpha=0.1, criterion=gini, max_depth=5, min_samples_split=3, n_estimators=100;, score=0.161 total time=   1.4s\n",
      "[CV 2/3] END ccp_alpha=0.1, criterion=gini, max_depth=5, min_samples_split=2, n_estimators=400;, score=0.161 total time=   5.1s\n",
      "[CV 3/3] END ccp_alpha=0.1, criterion=gini, max_depth=5, min_samples_split=3, n_estimators=100;, score=0.164 total time=   1.4s\n",
      "[CV 3/3] END ccp_alpha=0.1, criterion=gini, max_depth=5, min_samples_split=2, n_estimators=400;, score=0.164 total time=   5.2s\n",
      "[CV 1/3] END ccp_alpha=0.1, criterion=gini, max_depth=5, min_samples_split=3, n_estimators=200;, score=0.165 total time=   2.6s\n",
      "[CV 2/3] END ccp_alpha=0.1, criterion=gini, max_depth=5, min_samples_split=3, n_estimators=200;, score=0.161 total time=   2.6s\n",
      "[CV 3/3] END ccp_alpha=0.1, criterion=gini, max_depth=5, min_samples_split=3, n_estimators=200;, score=0.164 total time=   2.8s\n",
      "[CV 1/3] END ccp_alpha=0.1, criterion=gini, max_depth=5, min_samples_split=3, n_estimators=300;, score=0.165 total time=   4.0s\n",
      "[CV 2/3] END ccp_alpha=0.1, criterion=gini, max_depth=5, min_samples_split=3, n_estimators=300;, score=0.161 total time=   3.8s\n",
      "[CV 3/3] END ccp_alpha=0.1, criterion=gini, max_depth=5, min_samples_split=3, n_estimators=300;, score=0.164 total time=   3.7s\n",
      "[CV 1/3] END ccp_alpha=0.1, criterion=gini, max_depth=11, min_samples_split=2, n_estimators=100;, score=0.165 total time=   2.5s\n",
      "[CV 1/3] END ccp_alpha=0.1, criterion=gini, max_depth=5, min_samples_split=3, n_estimators=400;, score=0.165 total time=   5.6s\n",
      "[CV 2/3] END ccp_alpha=0.1, criterion=gini, max_depth=5, min_samples_split=3, n_estimators=400;, score=0.161 total time=   4.9s\n",
      "[CV 2/3] END ccp_alpha=0.1, criterion=gini, max_depth=11, min_samples_split=2, n_estimators=100;, score=0.161 total time=   2.7s\n",
      "[CV 3/3] END ccp_alpha=0.1, criterion=gini, max_depth=5, min_samples_split=3, n_estimators=400;, score=0.164 total time=   5.3s\n",
      "[CV 3/3] END ccp_alpha=0.1, criterion=gini, max_depth=11, min_samples_split=2, n_estimators=100;, score=0.164 total time=   3.0s\n",
      "[CV 1/3] END ccp_alpha=0.1, criterion=gini, max_depth=11, min_samples_split=2, n_estimators=200;, score=0.165 total time=   5.3s\n",
      "[CV 2/3] END ccp_alpha=0.1, criterion=gini, max_depth=11, min_samples_split=2, n_estimators=200;, score=0.161 total time=   5.7s[CV 3/3] END ccp_alpha=0.1, criterion=gini, max_depth=11, min_samples_split=2, n_estimators=200;, score=0.164 total time=   5.6s\n",
      "\n",
      "[CV 1/3] END ccp_alpha=0.1, criterion=gini, max_depth=11, min_samples_split=2, n_estimators=300;, score=0.165 total time=   8.7s\n",
      "[CV 2/3] END ccp_alpha=0.1, criterion=gini, max_depth=11, min_samples_split=2, n_estimators=300;, score=0.161 total time=   8.2s\n",
      "[CV 3/3] END ccp_alpha=0.1, criterion=gini, max_depth=11, min_samples_split=2, n_estimators=300;, score=0.164 total time=   9.0s\n",
      "[CV 1/3] END ccp_alpha=0.1, criterion=gini, max_depth=11, min_samples_split=3, n_estimators=100;, score=0.165 total time=   2.8s\n",
      "[CV 1/3] END ccp_alpha=0.1, criterion=gini, max_depth=11, min_samples_split=2, n_estimators=400;, score=0.165 total time=  12.1s\n",
      "[CV 2/3] END ccp_alpha=0.1, criterion=gini, max_depth=11, min_samples_split=2, n_estimators=400;, score=0.161 total time=  10.7s\n",
      "[CV 2/3] END ccp_alpha=0.1, criterion=gini, max_depth=11, min_samples_split=3, n_estimators=100;, score=0.161 total time=   3.0s\n",
      "[CV 3/3] END ccp_alpha=0.1, criterion=gini, max_depth=11, min_samples_split=3, n_estimators=100;, score=0.164 total time=   2.7s\n",
      "[CV 3/3] END ccp_alpha=0.1, criterion=gini, max_depth=11, min_samples_split=2, n_estimators=400;, score=0.164 total time=  11.0s\n",
      "[CV 1/3] END ccp_alpha=0.1, criterion=gini, max_depth=11, min_samples_split=3, n_estimators=200;, score=0.165 total time=   5.8s\n",
      "[CV 3/3] END ccp_alpha=0.1, criterion=gini, max_depth=11, min_samples_split=3, n_estimators=200;, score=0.164 total time=   5.8s\n",
      "[CV 2/3] END ccp_alpha=0.1, criterion=gini, max_depth=11, min_samples_split=3, n_estimators=200;, score=0.161 total time=   5.8s\n",
      "[CV 1/3] END ccp_alpha=0.1, criterion=gini, max_depth=11, min_samples_split=3, n_estimators=300;, score=0.165 total time=   8.1s\n",
      "[CV 2/3] END ccp_alpha=0.1, criterion=gini, max_depth=11, min_samples_split=3, n_estimators=300;, score=0.161 total time=   8.1s\n",
      "[CV 3/3] END ccp_alpha=0.1, criterion=gini, max_depth=11, min_samples_split=3, n_estimators=300;, score=0.164 total time=   8.7s\n",
      "[CV 1/3] END ccp_alpha=0.1, criterion=gini, max_depth=11, min_samples_split=3, n_estimators=400;, score=0.165 total time=  10.9s\n",
      "[CV 2/3] END ccp_alpha=0.1, criterion=gini, max_depth=11, min_samples_split=3, n_estimators=400;, score=0.161 total time=   8.8s\n",
      "[CV 3/3] END ccp_alpha=0.1, criterion=gini, max_depth=11, min_samples_split=3, n_estimators=400;, score=0.164 total time=   7.5s\n"
     ]
    },
    {
     "data": {
      "text/plain": [
       "({'ccp_alpha': 0.0,\n",
       "  'criterion': 'gini',\n",
       "  'max_depth': 11,\n",
       "  'min_samples_split': 2,\n",
       "  'n_estimators': 400},\n",
       " 0.8374225485272748)"
      ]
     },
     "execution_count": 30,
     "metadata": {},
     "output_type": "execute_result"
    }
   ],
   "source": [
    "#let's tunning Extratree Classifier\n",
    "gkf = KFold(n_splits=3, shuffle=True, random_state=42).split(X=X_train, y=y_train_encoded)\n",
    "\n",
    "# A parameter grid for XGBoost\n",
    "params = {\n",
    "    'n_estimators': range(100, 500, 100),\n",
    "    'ccp_alpha': [0.0, 0.1],\n",
    "    'criterion': ['gini'],\n",
    "    'max_depth': [5,11],\n",
    "    'min_samples_split': [2,3],\n",
    "}\n",
    "\n",
    "extree_estimator = ExtraTreesClassifier()\n",
    "\n",
    "gsearch = GridSearchCV(\n",
    "    estimator= extree_estimator,\n",
    "    param_grid= params,\n",
    "    scoring='f1_weighted',\n",
    "    n_jobs=-1,\n",
    "    cv=gkf,\n",
    "    verbose=3,\n",
    ")\n",
    "\n",
    "extree_model = gsearch.fit(X=X_train, y=y_train_encoded)\n",
    "(gsearch.best_params_, gsearch.best_score_)"
   ]
  },
  {
   "cell_type": "code",
   "execution_count": 31,
   "metadata": {},
   "outputs": [
    {
     "name": "stdout",
     "output_type": "stream",
     "text": [
      "Fitting 3 folds for each of 32 candidates, totalling 96 fits\n",
      "[CV 1/3] END class_weight=balanced, max_depth=11, min_samples_split=2, n_estimators=400;, score=0.835 total time=  11.8s\n",
      "[CV 2/3] END class_weight=balanced, max_depth=11, min_samples_split=2, n_estimators=400;, score=0.838 total time=  12.0s\n",
      "[CV 3/3] END class_weight=balanced, max_depth=11, min_samples_split=2, n_estimators=400;, score=0.833 total time=  12.4s\n",
      "[CV 1/3] END class_weight=balanced, max_depth=11, min_samples_split=2, n_estimators=500;, score=0.839 total time=  16.1s\n",
      "[CV 2/3] END class_weight=balanced, max_depth=11, min_samples_split=2, n_estimators=500;, score=0.834 total time=  14.1s\n",
      "[CV 3/3] END class_weight=balanced, max_depth=11, min_samples_split=2, n_estimators=500;, score=0.833 total time=  14.2s\n",
      "[CV 1/3] END class_weight=balanced, max_depth=11, min_samples_split=2, n_estimators=600;, score=0.837 total time=  17.6s\n",
      "[CV 2/3] END class_weight=balanced, max_depth=11, min_samples_split=2, n_estimators=600;, score=0.839 total time=  18.5s\n",
      "[CV 3/3] END class_weight=balanced, max_depth=11, min_samples_split=2, n_estimators=600;, score=0.835 total time=  17.3s\n",
      "[CV 1/3] END class_weight=balanced, max_depth=11, min_samples_split=2, n_estimators=700;, score=0.837 total time=  21.5s\n",
      "[CV 2/3] END class_weight=balanced, max_depth=11, min_samples_split=2, n_estimators=700;, score=0.838 total time=  20.3s\n",
      "[CV 1/3] END class_weight=balanced, max_depth=11, min_samples_split=3, n_estimators=400;, score=0.841 total time=  11.1s\n",
      "[CV 3/3] END class_weight=balanced, max_depth=11, min_samples_split=2, n_estimators=700;, score=0.833 total time=  20.6s\n",
      "[CV 2/3] END class_weight=balanced, max_depth=11, min_samples_split=3, n_estimators=400;, score=0.834 total time=  12.0s\n",
      "[CV 3/3] END class_weight=balanced, max_depth=11, min_samples_split=3, n_estimators=400;, score=0.836 total time=  11.5s\n",
      "[CV 1/3] END class_weight=balanced, max_depth=11, min_samples_split=3, n_estimators=500;, score=0.839 total time=  14.5s\n",
      "[CV 2/3] END class_weight=balanced, max_depth=11, min_samples_split=3, n_estimators=500;, score=0.833 total time=  15.2s\n",
      "[CV 3/3] END class_weight=balanced, max_depth=11, min_samples_split=3, n_estimators=500;, score=0.833 total time=  14.5s\n",
      "[CV 1/3] END class_weight=balanced, max_depth=11, min_samples_split=3, n_estimators=600;, score=0.834 total time=  17.3s\n",
      "[CV 2/3] END class_weight=balanced, max_depth=11, min_samples_split=3, n_estimators=600;, score=0.834 total time=  17.5s\n",
      "[CV 3/3] END class_weight=balanced, max_depth=11, min_samples_split=3, n_estimators=600;, score=0.834 total time=  17.3s\n",
      "[CV 1/3] END class_weight=balanced, max_depth=11, min_samples_split=3, n_estimators=700;, score=0.835 total time=  20.2s\n",
      "[CV 2/3] END class_weight=balanced, max_depth=11, min_samples_split=3, n_estimators=700;, score=0.836 total time=  21.2s\n",
      "[CV 1/3] END class_weight=balanced, max_depth=15, min_samples_split=2, n_estimators=400;, score=0.911 total time=  15.6s\n",
      "[CV 3/3] END class_weight=balanced, max_depth=11, min_samples_split=3, n_estimators=700;, score=0.835 total time=  20.3s\n",
      "[CV 2/3] END class_weight=balanced, max_depth=15, min_samples_split=2, n_estimators=400;, score=0.908 total time=  15.6s\n",
      "[CV 3/3] END class_weight=balanced, max_depth=15, min_samples_split=2, n_estimators=400;, score=0.903 total time=  15.5s\n",
      "[CV 1/3] END class_weight=balanced, max_depth=15, min_samples_split=2, n_estimators=500;, score=0.909 total time=  19.0s\n",
      "[CV 2/3] END class_weight=balanced, max_depth=15, min_samples_split=2, n_estimators=500;, score=0.910 total time=  18.9s\n",
      "[CV 3/3] END class_weight=balanced, max_depth=15, min_samples_split=2, n_estimators=500;, score=0.902 total time=  19.3s\n",
      "[CV 1/3] END class_weight=balanced, max_depth=15, min_samples_split=2, n_estimators=600;, score=0.911 total time=  24.0s\n",
      "[CV 2/3] END class_weight=balanced, max_depth=15, min_samples_split=2, n_estimators=600;, score=0.910 total time=  22.4s\n",
      "[CV 3/3] END class_weight=balanced, max_depth=15, min_samples_split=2, n_estimators=600;, score=0.901 total time=  22.4s\n",
      "[CV 1/3] END class_weight=balanced, max_depth=15, min_samples_split=2, n_estimators=700;, score=0.913 total time=  26.1s\n",
      "[CV 1/3] END class_weight=balanced, max_depth=15, min_samples_split=3, n_estimators=400;, score=0.910 total time=  14.9s\n",
      "[CV 2/3] END class_weight=balanced, max_depth=15, min_samples_split=2, n_estimators=700;, score=0.910 total time=  27.6s\n",
      "[CV 2/3] END class_weight=balanced, max_depth=15, min_samples_split=3, n_estimators=400;, score=0.909 total time=  15.0s\n",
      "[CV 3/3] END class_weight=balanced, max_depth=15, min_samples_split=2, n_estimators=700;, score=0.902 total time=  27.2s\n",
      "[CV 3/3] END class_weight=balanced, max_depth=15, min_samples_split=3, n_estimators=400;, score=0.899 total time=  14.9s\n",
      "[CV 1/3] END class_weight=balanced, max_depth=15, min_samples_split=3, n_estimators=500;, score=0.910 total time=  18.0s\n",
      "[CV 2/3] END class_weight=balanced, max_depth=15, min_samples_split=3, n_estimators=500;, score=0.909 total time=  19.5s\n",
      "[CV 3/3] END class_weight=balanced, max_depth=15, min_samples_split=3, n_estimators=500;, score=0.901 total time=  18.6s\n",
      "[CV 1/3] END class_weight=balanced, max_depth=15, min_samples_split=3, n_estimators=600;, score=0.911 total time=  23.5s\n",
      "[CV 2/3] END class_weight=balanced, max_depth=15, min_samples_split=3, n_estimators=600;, score=0.908 total time=  22.8s\n",
      "[CV 3/3] END class_weight=balanced, max_depth=15, min_samples_split=3, n_estimators=600;, score=0.902 total time=  21.8s\n",
      "[CV 1/3] END class_weight=balanced, max_depth=15, min_samples_split=3, n_estimators=700;, score=0.910 total time=  26.5s\n",
      "[CV 1/3] END class_weight=None, max_depth=11, min_samples_split=2, n_estimators=400;, score=0.839 total time=  10.1s\n",
      "[CV 2/3] END class_weight=balanced, max_depth=15, min_samples_split=3, n_estimators=700;, score=0.910 total time=  26.0s\n",
      "[CV 2/3] END class_weight=None, max_depth=11, min_samples_split=2, n_estimators=400;, score=0.835 total time=  10.8s\n",
      "[CV 3/3] END class_weight=None, max_depth=11, min_samples_split=2, n_estimators=400;, score=0.831 total time=  10.2s\n",
      "[CV 3/3] END class_weight=balanced, max_depth=15, min_samples_split=3, n_estimators=700;, score=0.902 total time=  28.0s\n",
      "[CV 2/3] END class_weight=None, max_depth=11, min_samples_split=2, n_estimators=500;, score=0.837 total time=  13.1s\n",
      "[CV 1/3] END class_weight=None, max_depth=11, min_samples_split=2, n_estimators=500;, score=0.839 total time=  14.3s\n",
      "[CV 3/3] END class_weight=None, max_depth=11, min_samples_split=2, n_estimators=500;, score=0.836 total time=  12.9s\n",
      "[CV 1/3] END class_weight=None, max_depth=11, min_samples_split=2, n_estimators=600;, score=0.840 total time=  16.7s\n",
      "[CV 3/3] END class_weight=None, max_depth=11, min_samples_split=2, n_estimators=600;, score=0.833 total time=  15.7s\n",
      "[CV 2/3] END class_weight=None, max_depth=11, min_samples_split=2, n_estimators=600;, score=0.834 total time=  16.5s\n",
      "[CV 1/3] END class_weight=None, max_depth=11, min_samples_split=2, n_estimators=700;, score=0.839 total time=  17.4s\n",
      "[CV 1/3] END class_weight=None, max_depth=11, min_samples_split=3, n_estimators=400;, score=0.834 total time=  11.1s\n",
      "[CV 2/3] END class_weight=None, max_depth=11, min_samples_split=3, n_estimators=400;, score=0.835 total time=  10.0s\n",
      "[CV 2/3] END class_weight=None, max_depth=11, min_samples_split=2, n_estimators=700;, score=0.838 total time=  19.4s\n",
      "[CV 3/3] END class_weight=None, max_depth=11, min_samples_split=2, n_estimators=700;, score=0.834 total time=  18.3s\n",
      "[CV 3/3] END class_weight=None, max_depth=11, min_samples_split=3, n_estimators=400;, score=0.836 total time=  10.9s\n",
      "[CV 2/3] END class_weight=None, max_depth=11, min_samples_split=3, n_estimators=500;, score=0.838 total time=  13.7s\n",
      "[CV 1/3] END class_weight=None, max_depth=11, min_samples_split=3, n_estimators=500;, score=0.839 total time=  14.3s\n",
      "[CV 3/3] END class_weight=None, max_depth=11, min_samples_split=3, n_estimators=500;, score=0.833 total time=  12.8s\n",
      "[CV 1/3] END class_weight=None, max_depth=11, min_samples_split=3, n_estimators=600;, score=0.835 total time=  15.6s\n",
      "[CV 2/3] END class_weight=None, max_depth=11, min_samples_split=3, n_estimators=600;, score=0.835 total time=  16.8s\n",
      "[CV 3/3] END class_weight=None, max_depth=11, min_samples_split=3, n_estimators=600;, score=0.833 total time=  16.3s\n",
      "[CV 1/3] END class_weight=None, max_depth=11, min_samples_split=3, n_estimators=700;, score=0.838 total time=  19.4s\n",
      "[CV 2/3] END class_weight=None, max_depth=11, min_samples_split=3, n_estimators=700;, score=0.833 total time=  18.2s\n",
      "[CV 1/3] END class_weight=None, max_depth=15, min_samples_split=2, n_estimators=400;, score=0.912 total time=  13.8s\n",
      "[CV 3/3] END class_weight=None, max_depth=11, min_samples_split=3, n_estimators=700;, score=0.834 total time=  18.7s\n",
      "[CV 2/3] END class_weight=None, max_depth=15, min_samples_split=2, n_estimators=400;, score=0.910 total time=  14.4s\n",
      "[CV 3/3] END class_weight=None, max_depth=15, min_samples_split=2, n_estimators=400;, score=0.901 total time=  14.4s\n",
      "[CV 1/3] END class_weight=None, max_depth=15, min_samples_split=2, n_estimators=500;, score=0.912 total time=  17.5s\n",
      "[CV 3/3] END class_weight=None, max_depth=15, min_samples_split=2, n_estimators=500;, score=0.900 total time=  16.6s\n",
      "[CV 2/3] END class_weight=None, max_depth=15, min_samples_split=2, n_estimators=500;, score=0.910 total time=  19.2s\n",
      "[CV 1/3] END class_weight=None, max_depth=15, min_samples_split=2, n_estimators=600;, score=0.913 total time=  20.0s\n",
      "[CV 2/3] END class_weight=None, max_depth=15, min_samples_split=2, n_estimators=600;, score=0.910 total time=  21.8s\n",
      "[CV 3/3] END class_weight=None, max_depth=15, min_samples_split=2, n_estimators=600;, score=0.903 total time=  21.3s\n",
      "[CV 1/3] END class_weight=None, max_depth=15, min_samples_split=2, n_estimators=700;, score=0.912 total time=  24.6s\n",
      "[CV 2/3] END class_weight=None, max_depth=15, min_samples_split=2, n_estimators=700;, score=0.911 total time=  24.4s\n",
      "[CV 1/3] END class_weight=None, max_depth=15, min_samples_split=3, n_estimators=400;, score=0.911 total time=  14.3s\n",
      "[CV 2/3] END class_weight=None, max_depth=15, min_samples_split=3, n_estimators=400;, score=0.908 total time=  14.4s\n",
      "[CV 3/3] END class_weight=None, max_depth=15, min_samples_split=2, n_estimators=700;, score=0.900 total time=  24.7s\n",
      "[CV 3/3] END class_weight=None, max_depth=15, min_samples_split=3, n_estimators=400;, score=0.904 total time=  13.8s\n",
      "[CV 1/3] END class_weight=None, max_depth=15, min_samples_split=3, n_estimators=500;, score=0.911 total time=  18.1s\n",
      "[CV 3/3] END class_weight=None, max_depth=15, min_samples_split=3, n_estimators=500;, score=0.901 total time=  16.9s\n",
      "[CV 2/3] END class_weight=None, max_depth=15, min_samples_split=3, n_estimators=500;, score=0.907 total time=  18.2s\n",
      "[CV 1/3] END class_weight=None, max_depth=15, min_samples_split=3, n_estimators=600;, score=0.910 total time=  20.8s\n",
      "[CV 2/3] END class_weight=None, max_depth=15, min_samples_split=3, n_estimators=600;, score=0.909 total time=  21.4s\n",
      "[CV 3/3] END class_weight=None, max_depth=15, min_samples_split=3, n_estimators=600;, score=0.900 total time=  21.0s\n",
      "[CV 1/3] END class_weight=None, max_depth=15, min_samples_split=3, n_estimators=700;, score=0.909 total time=  24.0s\n",
      "[CV 2/3] END class_weight=None, max_depth=15, min_samples_split=3, n_estimators=700;, score=0.907 total time=  20.4s\n",
      "[CV 3/3] END class_weight=None, max_depth=15, min_samples_split=3, n_estimators=700;, score=0.902 total time=  16.2s\n"
     ]
    },
    {
     "data": {
      "text/plain": [
       "({'class_weight': None,\n",
       "  'max_depth': 15,\n",
       "  'min_samples_split': 2,\n",
       "  'n_estimators': 600},\n",
       " 0.9083667559135317)"
      ]
     },
     "execution_count": 31,
     "metadata": {},
     "output_type": "execute_result"
    }
   ],
   "source": [
    "#and now I'm gonna tune with a higher random_state param ()\n",
    "gkf_2 = KFold(n_splits=3, shuffle=True, random_state=84).split(X=X_train, y=y_train_encoded)\n",
    "\n",
    "params_2 = {\n",
    "    'n_estimators': range(400, 800, 100),\n",
    "    'max_depth': [11,15],\n",
    "    'min_samples_split': [2,3],\n",
    "    'class_weight': ['balanced', None],\n",
    "\n",
    "}\n",
    "\n",
    "extree_2 = ExtraTreesClassifier(ccp_alpha = 0.0,\n",
    "                                criterion = 'gini',\n",
    "                                max_depth = 11,\n",
    "                                min_samples_split = 3,\n",
    "                                n_estimators = 400)\n",
    "\n",
    "gsearch_2 = GridSearchCV(\n",
    "    estimator= extree_2,\n",
    "    param_grid= params_2,\n",
    "    scoring='f1_weighted',\n",
    "    n_jobs=-1,\n",
    "    cv=gkf_2,\n",
    "    verbose=3,\n",
    ")\n",
    "\n",
    "extree_model_2 = gsearch_2.fit(X=X_train, y=y_train_encoded)\n",
    "\n",
    "(gsearch_2.best_params_, gsearch_2.best_score_)"
   ]
  },
  {
   "cell_type": "code",
   "execution_count": 32,
   "metadata": {},
   "outputs": [],
   "source": [
    "#run model with tunned parameters from the second tuned model\n",
    "#({'class_weight': None,\n",
    "#  'max_depth': 15,\n",
    "#  'min_samples_split': 2,\n",
    "#  'n_estimators': 700},\n",
    "# 0.910189520538368)\n",
    "extree_tuned = ExtraTreesClassifier(ccp_alpha = 0.0,\n",
    "                                criterion = 'gini',\n",
    "                                min_samples_split = 2,\n",
    "                                class_weight = 'balanced',\n",
    "                                max_depth = 15,\n",
    "                                n_estimators = 700)\n",
    "\n",
    "extree_tuned.fit(X_train, y_train_encoded)\n",
    "y_pred_tuned = extree_tuned.predict(X_test)"
   ]
  },
  {
   "attachments": {},
   "cell_type": "markdown",
   "metadata": {},
   "source": [
    "<hr>\n",
    "<h2>Saving the model</h2>\n",
    "<hr>"
   ]
  },
  {
   "cell_type": "code",
   "execution_count": 35,
   "metadata": {},
   "outputs": [],
   "source": [
    "joblib.dump(extree_tuned, '../models/RTA_model.joblib', compress=5)\n",
    "pickle.dump(extree_tuned, open('../models/RTA_model.pkl', 'wb'))"
   ]
  }
 ],
 "metadata": {
  "kernelspec": {
   "display_name": "Python 3",
   "language": "python",
   "name": "python3"
  },
  "language_info": {
   "codemirror_mode": {
    "name": "ipython",
    "version": 3
   },
   "file_extension": ".py",
   "mimetype": "text/x-python",
   "name": "python",
   "nbconvert_exporter": "python",
   "pygments_lexer": "ipython3",
   "version": "3.8.10"
  },
  "orig_nbformat": 4
 },
 "nbformat": 4,
 "nbformat_minor": 2
}
